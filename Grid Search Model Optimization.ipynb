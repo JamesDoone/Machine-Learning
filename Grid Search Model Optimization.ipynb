{
 "cells": [
  {
   "cell_type": "markdown",
   "metadata": {},
   "source": [
    "# Always use K_fold Cross Validation in tandem with Grid Search"
   ]
  },
  {
   "cell_type": "markdown",
   "metadata": {},
   "source": [
    "# The Hyper_Parameters\n",
    "\n",
    "\n",
    "- Machine Learning models composed of 2 types of parameters\n",
    "    - parameters that are learned\n",
    "    - parameters that are learned\n",
    "\n",
    "## How to choose model\n",
    "\n",
    "### STEP 1\n",
    "\n",
    "- identify is business problem is a regression, classification, or clustering problem\n",
    "     -  **CLUSTER** IF THERE IS NO DEPENDENT VARIABLE\n",
    "     -  **REGRESSION PROBLEM** IF THERE IS A  **CONTINUOUS DEPENDENT VARIABLE**\n",
    "     -  **CLASSIFICATION PROBLEM** IF THERE IS A **CATEGORICAL DEPENDENT VARIABLE**\n",
    "        \n",
    "### STEP 2: \n",
    "\n",
    "#### GRID SEARCH \n",
    "\n",
    "- IS THE PROBLEM NONLINEAR OR LINEAR\n",
    "    "
   ]
  },
  {
   "cell_type": "code",
   "execution_count": 1,
   "metadata": {
    "collapsed": true
   },
   "outputs": [],
   "source": [
    "%matplotlib inline\n",
    "import pandas as pd\n",
    "import numpy as np\n",
    "import matplotlib.pyplot as plt\n"
   ]
  },
  {
   "cell_type": "code",
   "execution_count": null,
   "metadata": {
    "collapsed": true
   },
   "outputs": [],
   "source": [
    "\" /Users/jimdoone/Desktop/Machine_Learning__TEMPLATES/Model_Selection  \""
   ]
  },
  {
   "cell_type": "code",
   "execution_count": 2,
   "metadata": {
    "collapsed": false
   },
   "outputs": [
    {
     "name": "stdout",
     "output_type": "stream",
     "text": [
      "/Users/jimdoone/Desktop/Machine_Learning__TEMPLATES/Model_Selection\n"
     ]
    }
   ],
   "source": [
    "%cd /Users/jimdoone/Desktop/Machine_Learning__TEMPLATES/Model_Selection/"
   ]
  },
  {
   "cell_type": "code",
   "execution_count": 3,
   "metadata": {
    "collapsed": false
   },
   "outputs": [
    {
     "name": "stdout",
     "output_type": "stream",
     "text": [
      "Social_Network_Ads.csv      k_fold_cross_validation.R\r\n",
      "grid_search.R               k_fold_cross_validation.py\r\n",
      "grid_search.py\r\n"
     ]
    }
   ],
   "source": [
    "%ls"
   ]
  },
  {
   "cell_type": "code",
   "execution_count": 4,
   "metadata": {
    "collapsed": true
   },
   "outputs": [],
   "source": [
    "dataset = pd.read_csv('Social_Network_Ads.csv')\n",
    "X = dataset.iloc[:, [2,3]].values\n",
    "y = dataset.iloc[:, 4].values"
   ]
  },
  {
   "cell_type": "code",
   "execution_count": 5,
   "metadata": {
    "collapsed": true
   },
   "outputs": [],
   "source": [
    "from sklearn.model_selection import train_test_split\n",
    "X_train, X_test, y_train, y_test = train_test_split(X, y, test_size=0.25, random_state=0)"
   ]
  },
  {
   "cell_type": "code",
   "execution_count": 6,
   "metadata": {
    "collapsed": true
   },
   "outputs": [],
   "source": [
    "from sklearn.preprocessing import StandardScaler\n",
    "sc = StandardScaler()\n",
    "X_train = sc.fit_transform(X_train)\n",
    "X_test = sc.transform(X_test)"
   ]
  },
  {
   "cell_type": "code",
   "execution_count": 7,
   "metadata": {
    "collapsed": false
   },
   "outputs": [
    {
     "data": {
      "text/plain": [
       "SVC(C=1.0, cache_size=200, class_weight=None, coef0=0.0,\n",
       "  decision_function_shape=None, degree=3, gamma='auto', kernel='rbf',\n",
       "  max_iter=-1, probability=False, random_state=0, shrinking=True,\n",
       "  tol=0.001, verbose=False)"
      ]
     },
     "execution_count": 7,
     "metadata": {},
     "output_type": "execute_result"
    }
   ],
   "source": [
    "from sklearn.svm import SVC\n",
    "classifier = SVC(kernel ='rbf', random_state=0)\n",
    "classifier.fit(X_train, y_train)"
   ]
  },
  {
   "cell_type": "code",
   "execution_count": 8,
   "metadata": {
    "collapsed": true
   },
   "outputs": [],
   "source": [
    "y_pred = classifier.predict(X_test)"
   ]
  },
  {
   "cell_type": "code",
   "execution_count": 9,
   "metadata": {
    "collapsed": true
   },
   "outputs": [],
   "source": [
    "from sklearn.metrics import confusion_matrix\n",
    "cm = confusion_matrix(y_test, y_pred)"
   ]
  },
  {
   "cell_type": "code",
   "execution_count": 10,
   "metadata": {
    "collapsed": false
   },
   "outputs": [
    {
     "data": {
      "text/plain": [
       "0.063889573566262847"
      ]
     },
     "execution_count": 10,
     "metadata": {},
     "output_type": "execute_result"
    }
   ],
   "source": [
    "from sklearn.model_selection import cross_val_score\n",
    "accurracies = cross_val_score(estimator =classifier, X =X_train, y =y_train, cv =10)\n",
    "\n",
    "accurracies.std()"
   ]
  },
  {
   "cell_type": "code",
   "execution_count": 11,
   "metadata": {
    "collapsed": false
   },
   "outputs": [
    {
     "data": {
      "text/plain": [
       "0.90053021876158679"
      ]
     },
     "execution_count": 11,
     "metadata": {},
     "output_type": "execute_result"
    }
   ],
   "source": [
    "accurracies.mean()"
   ]
  },
  {
   "cell_type": "code",
   "execution_count": 12,
   "metadata": {
    "collapsed": false
   },
   "outputs": [
    {
     "data": {
      "text/plain": [
       "0.063889573566262847"
      ]
     },
     "execution_count": 12,
     "metadata": {},
     "output_type": "execute_result"
    }
   ],
   "source": [
    "accurracies.std()"
   ]
  },
  {
   "cell_type": "markdown",
   "metadata": {},
   "source": [
    "# GRID SEARCH \n",
    "\n",
    "## find the best model and parameters\n",
    "### grid search investigates the options of each parameter\n",
    "\n",
    "### Step 1\n",
    "\n",
    "- Take a look at the parameters of either the **regressor** or **classifier** in your model\n",
    "- Use **n_jobs = 1** FOR BIG DATASETS\n",
    "- The parameters in the code below are assigned to the SVC class.\n",
    "- The Grid Search *can* identify the **optimal** parameter.\n",
    "- For example, with the **kernel** parameter, the Grid Search will determine if a linear or nonlinear model will fit the data.\n",
    "    - **Be SURE TO CREATE MULTIPLE SCENARIOS FOR LINEAR AND NONLINEAR PARAMETERS**\n",
    "    - With the NONLINEAR parameter, add the **GAMMA** parameter which will not be added to LINEAR dictionary\n",
    "    - Read the parameter notes. For example, Gamma parameter is based on **1/n features**. In this model, there are 2 features. So the default would be 1/2 or **0.5**\n",
    "\n",
    "### Step 2\n",
    "#### Create the Grid Search object\n",
    "\n",
    "1. **THE ESTIMATOR**: Need to create the *estimator* parameter (see below) to = *classifier* or whatever object was created. Should either be *classifier* or *regressor*\n",
    "2. **THE PARAM_GRID** : need to assign the *parameters* object to **THE PARAM_GRID**\n",
    "3. Choose a scoring metric. Use 'accuracy' as used below.\n",
    "4. **cv** is the last parameter and is linked to cross_val_score of K_fold Validation or the number of iterations that a training set is split into.\n",
    "5. **n_jobs** is a parameter that can be added for performance. Because this process is expensive, it can take some time to run. Use **n_jobs** when using a big dataset"
   ]
  },
  {
   "cell_type": "code",
   "execution_count": 13,
   "metadata": {
    "collapsed": true
   },
   "outputs": [],
   "source": [
    "from sklearn.model_selection import GridSearchCV\n",
    "parameters = [{'C': [1,10,100,1000], 'kernel': ['linear']},\n",
    "              {'C': [1,10,100,1000], 'kernel': ['rbf'], 'gamma': [0.5, 0.1, 0.01, 0.001, 0.0001]}]\n",
    "\n",
    "grid_search = GridSearchCV(estimator=classifier, param_grid =parameters, scoring ='accuracy', cv =10, n_jobs =-1)\n",
    "grid_search = grid_search.fit(X_train, y_train)"
   ]
  },
  {
   "cell_type": "markdown",
   "metadata": {},
   "source": [
    "#   best_score_\n",
    "\n",
    "**best_score_** make sure you include the underscore at the tail of the method!!!!\n",
    "- The result is the **mean** of the 10 K_fold cross validation that was implemented."
   ]
  },
  {
   "cell_type": "code",
   "execution_count": 14,
   "metadata": {
    "collapsed": true
   },
   "outputs": [],
   "source": [
    "best_accuracy = grid_search.best_score_"
   ]
  },
  {
   "cell_type": "code",
   "execution_count": 15,
   "metadata": {
    "collapsed": false
   },
   "outputs": [
    {
     "data": {
      "text/plain": [
       "0.90000000000000002"
      ]
     },
     "execution_count": 15,
     "metadata": {},
     "output_type": "execute_result"
    }
   ],
   "source": [
    "best_accuracy"
   ]
  },
  {
   "cell_type": "markdown",
   "metadata": {},
   "source": [
    "# best_params_\n",
    "- This will return the optimal parameters\n",
    "- **Dont forget to include the underscore atr the tail of \"best_params_\""
   ]
  },
  {
   "cell_type": "code",
   "execution_count": 16,
   "metadata": {
    "collapsed": true
   },
   "outputs": [],
   "source": [
    "best_parameters = grid_search.best_params_"
   ]
  },
  {
   "cell_type": "code",
   "execution_count": 17,
   "metadata": {
    "collapsed": false
   },
   "outputs": [
    {
     "data": {
      "text/plain": [
       "{'C': 1, 'gamma': 0.5, 'kernel': 'rbf'}"
      ]
     },
     "execution_count": 17,
     "metadata": {},
     "output_type": "execute_result"
    }
   ],
   "source": [
    "best_parameters"
   ]
  },
  {
   "cell_type": "code",
   "execution_count": null,
   "metadata": {
    "collapsed": true
   },
   "outputs": [],
   "source": []
  }
 ],
 "metadata": {
  "kernelspec": {
   "display_name": "Python 3",
   "language": "python",
   "name": "python3"
  },
  "language_info": {
   "codemirror_mode": {
    "name": "ipython",
    "version": 3
   },
   "file_extension": ".py",
   "mimetype": "text/x-python",
   "name": "python",
   "nbconvert_exporter": "python",
   "pygments_lexer": "ipython3",
   "version": "3.6.0"
  }
 },
 "nbformat": 4,
 "nbformat_minor": 2
}
