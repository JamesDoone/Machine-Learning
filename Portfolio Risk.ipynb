{
 "cells": [
  {
   "cell_type": "code",
   "execution_count": 68,
   "metadata": {
    "collapsed": true
   },
   "outputs": [],
   "source": [
    "%matplotlib inline\n",
    "import pandas as pd\n",
    "import numpy as np\n",
    "from pandas_datareader import data as wb\n",
    "import matplotlib.pyplot as plt\n",
    "plt.style.use('ggplot')"
   ]
  },
  {
   "cell_type": "markdown",
   "metadata": {},
   "source": [
    "Solar City: SCTY\n",
    "Vivint Solar: VSLR\n",
    "Sunrun: RUN\n",
    "Tesla: TSLA"
   ]
  },
  {
   "cell_type": "code",
   "execution_count": 69,
   "metadata": {
    "collapsed": true
   },
   "outputs": [],
   "source": [
    "from pandas_datareader import data as wb\n",
    "import datetime as dt"
   ]
  },
  {
   "cell_type": "code",
   "execution_count": 70,
   "metadata": {
    "collapsed": false
   },
   "outputs": [
    {
     "data": {
      "text/html": [
       "<div>\n",
       "<table border=\"1\" class=\"dataframe\">\n",
       "  <thead>\n",
       "    <tr style=\"text-align: right;\">\n",
       "      <th></th>\n",
       "      <th>Open</th>\n",
       "      <th>High</th>\n",
       "      <th>Low</th>\n",
       "      <th>Close</th>\n",
       "      <th>Volume</th>\n",
       "    </tr>\n",
       "    <tr>\n",
       "      <th>Date</th>\n",
       "      <th></th>\n",
       "      <th></th>\n",
       "      <th></th>\n",
       "      <th></th>\n",
       "      <th></th>\n",
       "    </tr>\n",
       "  </thead>\n",
       "  <tbody>\n",
       "    <tr>\n",
       "      <th>2015-08-05</th>\n",
       "      <td>13.06</td>\n",
       "      <td>13.31</td>\n",
       "      <td>10.40</td>\n",
       "      <td>10.77</td>\n",
       "      <td>14096975</td>\n",
       "    </tr>\n",
       "    <tr>\n",
       "      <th>2015-08-06</th>\n",
       "      <td>11.00</td>\n",
       "      <td>11.20</td>\n",
       "      <td>8.23</td>\n",
       "      <td>8.77</td>\n",
       "      <td>3570430</td>\n",
       "    </tr>\n",
       "    <tr>\n",
       "      <th>2015-08-07</th>\n",
       "      <td>9.19</td>\n",
       "      <td>10.20</td>\n",
       "      <td>8.77</td>\n",
       "      <td>10.14</td>\n",
       "      <td>1624299</td>\n",
       "    </tr>\n",
       "    <tr>\n",
       "      <th>2015-08-10</th>\n",
       "      <td>10.73</td>\n",
       "      <td>10.73</td>\n",
       "      <td>10.00</td>\n",
       "      <td>10.12</td>\n",
       "      <td>435917</td>\n",
       "    </tr>\n",
       "    <tr>\n",
       "      <th>2015-08-11</th>\n",
       "      <td>10.00</td>\n",
       "      <td>10.03</td>\n",
       "      <td>9.50</td>\n",
       "      <td>9.79</td>\n",
       "      <td>349732</td>\n",
       "    </tr>\n",
       "  </tbody>\n",
       "</table>\n",
       "</div>"
      ],
      "text/plain": [
       "             Open   High    Low  Close    Volume\n",
       "Date                                            \n",
       "2015-08-05  13.06  13.31  10.40  10.77  14096975\n",
       "2015-08-06  11.00  11.20   8.23   8.77   3570430\n",
       "2015-08-07   9.19  10.20   8.77  10.14   1624299\n",
       "2015-08-10  10.73  10.73  10.00  10.12    435917\n",
       "2015-08-11  10.00  10.03   9.50   9.79    349732"
      ]
     },
     "execution_count": 70,
     "metadata": {},
     "output_type": "execute_result"
    }
   ],
   "source": [
    "company = 'RUN'\n",
    "start = '2010-01-01'\n",
    "end = '2017-12-31'\n",
    "stocks = wb.DataReader(company, data_source='google', start=start, end=end)\n",
    "stocks.head()"
   ]
  },
  {
   "cell_type": "code",
   "execution_count": 71,
   "metadata": {
    "collapsed": true
   },
   "outputs": [],
   "source": [
    "stocks = ['VSLR', 'RUN','TSLA']\n",
    "mydata = pd.DataFrame()\n",
    "for stock in stocks:\n",
    "    mydata[stock] = wb.DataReader(stock, 'google', start='2016-1-1')['Close']"
   ]
  },
  {
   "cell_type": "code",
   "execution_count": 72,
   "metadata": {
    "collapsed": false
   },
   "outputs": [
    {
     "data": {
      "text/html": [
       "<div>\n",
       "<table border=\"1\" class=\"dataframe\">\n",
       "  <thead>\n",
       "    <tr style=\"text-align: right;\">\n",
       "      <th></th>\n",
       "      <th>VSLR</th>\n",
       "      <th>RUN</th>\n",
       "      <th>TSLA</th>\n",
       "    </tr>\n",
       "    <tr>\n",
       "      <th>Date</th>\n",
       "      <th></th>\n",
       "      <th></th>\n",
       "      <th></th>\n",
       "    </tr>\n",
       "  </thead>\n",
       "  <tbody>\n",
       "    <tr>\n",
       "      <th>2016-01-04</th>\n",
       "      <td>9.92</td>\n",
       "      <td>11.21</td>\n",
       "      <td>223.41</td>\n",
       "    </tr>\n",
       "    <tr>\n",
       "      <th>2016-01-05</th>\n",
       "      <td>10.07</td>\n",
       "      <td>9.61</td>\n",
       "      <td>223.43</td>\n",
       "    </tr>\n",
       "    <tr>\n",
       "      <th>2016-01-06</th>\n",
       "      <td>10.07</td>\n",
       "      <td>10.20</td>\n",
       "      <td>219.04</td>\n",
       "    </tr>\n",
       "    <tr>\n",
       "      <th>2016-01-07</th>\n",
       "      <td>9.41</td>\n",
       "      <td>9.21</td>\n",
       "      <td>215.65</td>\n",
       "    </tr>\n",
       "    <tr>\n",
       "      <th>2016-01-08</th>\n",
       "      <td>9.60</td>\n",
       "      <td>9.75</td>\n",
       "      <td>211.00</td>\n",
       "    </tr>\n",
       "  </tbody>\n",
       "</table>\n",
       "</div>"
      ],
      "text/plain": [
       "             VSLR    RUN    TSLA\n",
       "Date                            \n",
       "2016-01-04   9.92  11.21  223.41\n",
       "2016-01-05  10.07   9.61  223.43\n",
       "2016-01-06  10.07  10.20  219.04\n",
       "2016-01-07   9.41   9.21  215.65\n",
       "2016-01-08   9.60   9.75  211.00"
      ]
     },
     "execution_count": 72,
     "metadata": {},
     "output_type": "execute_result"
    }
   ],
   "source": [
    "mydata.head()"
   ]
  },
  {
   "cell_type": "code",
   "execution_count": 73,
   "metadata": {
    "collapsed": false
   },
   "outputs": [
    {
     "data": {
      "text/plain": [
       "VSLR      9.92\n",
       "RUN      11.21\n",
       "TSLA    223.41\n",
       "Name: 2016-01-04 00:00:00, dtype: float64"
      ]
     },
     "execution_count": 73,
     "metadata": {},
     "output_type": "execute_result"
    }
   ],
   "source": [
    "mydata.iloc[0]"
   ]
  },
  {
   "cell_type": "markdown",
   "metadata": {},
   "source": [
    "## Nominalization"
   ]
  },
  {
   "cell_type": "code",
   "execution_count": 74,
   "metadata": {
    "collapsed": false
   },
   "outputs": [
    {
     "data": {
      "text/plain": [
       "<matplotlib.axes._subplots.AxesSubplot at 0x11301ccc0>"
      ]
     },
     "execution_count": 74,
     "metadata": {},
     "output_type": "execute_result"
    },
    {
     "data": {
      "image/png": "[encoded data removed]",
      "text/plain": [
       "<matplotlib.figure.Figure at 0x112f8f198>"
      ]
     },
     "metadata": {},
     "output_type": "display_data"
    }
   ],
   "source": [
    "(mydata/mydata.iloc[0]*100).plot(figsize=(16,12))"
   ]
  },
  {
   "cell_type": "markdown",
   "metadata": {},
   "source": [
    "### Return on a portfolio"
   ]
  },
  {
   "cell_type": "code",
   "execution_count": 75,
   "metadata": {
    "collapsed": false
   },
   "outputs": [
    {
     "data": {
      "text/html": [
       "<div>\n",
       "<table border=\"1\" class=\"dataframe\">\n",
       "  <thead>\n",
       "    <tr style=\"text-align: right;\">\n",
       "      <th></th>\n",
       "      <th>VSLR</th>\n",
       "      <th>RUN</th>\n",
       "      <th>TSLA</th>\n",
       "    </tr>\n",
       "    <tr>\n",
       "      <th>Date</th>\n",
       "      <th></th>\n",
       "      <th></th>\n",
       "      <th></th>\n",
       "    </tr>\n",
       "  </thead>\n",
       "  <tbody>\n",
       "    <tr>\n",
       "      <th>2016-01-04</th>\n",
       "      <td>NaN</td>\n",
       "      <td>NaN</td>\n",
       "      <td>NaN</td>\n",
       "    </tr>\n",
       "    <tr>\n",
       "      <th>2016-01-05</th>\n",
       "      <td>0.015121</td>\n",
       "      <td>-0.142730</td>\n",
       "      <td>0.000090</td>\n",
       "    </tr>\n",
       "    <tr>\n",
       "      <th>2016-01-06</th>\n",
       "      <td>0.000000</td>\n",
       "      <td>0.061394</td>\n",
       "      <td>-0.019648</td>\n",
       "    </tr>\n",
       "    <tr>\n",
       "      <th>2016-01-07</th>\n",
       "      <td>-0.065541</td>\n",
       "      <td>-0.097059</td>\n",
       "      <td>-0.015477</td>\n",
       "    </tr>\n",
       "    <tr>\n",
       "      <th>2016-01-08</th>\n",
       "      <td>0.020191</td>\n",
       "      <td>0.058632</td>\n",
       "      <td>-0.021563</td>\n",
       "    </tr>\n",
       "  </tbody>\n",
       "</table>\n",
       "</div>"
      ],
      "text/plain": [
       "                VSLR       RUN      TSLA\n",
       "Date                                    \n",
       "2016-01-04       NaN       NaN       NaN\n",
       "2016-01-05  0.015121 -0.142730  0.000090\n",
       "2016-01-06  0.000000  0.061394 -0.019648\n",
       "2016-01-07 -0.065541 -0.097059 -0.015477\n",
       "2016-01-08  0.020191  0.058632 -0.021563"
      ]
     },
     "execution_count": 75,
     "metadata": {},
     "output_type": "execute_result"
    }
   ],
   "source": [
    "\n",
    "returns16 = (mydata/mydata.shift(1))-1\n",
    "returns16.head()"
   ]
  },
  {
   "cell_type": "markdown",
   "metadata": {},
   "source": [
    "### create weights"
   ]
  },
  {
   "cell_type": "code",
   "execution_count": 76,
   "metadata": {
    "collapsed": false
   },
   "outputs": [],
   "source": [
    "weights = np.array([0.333, 0.333, 0.333])\n"
   ]
  },
  {
   "cell_type": "code",
   "execution_count": 78,
   "metadata": {
    "collapsed": true
   },
   "outputs": [
    {
     "data": {
      "text/plain": [
       "array([             nan,  -4.24638991e-02,   1.39014742e-02,\n",
       "        -5.92995279e-02,   1.90677433e-02,  -2.24271443e-02,\n",
       "        -2.26398325e-02,  -4.23870578e-02,   1.20683916e-02,\n",
       "        -2.46354976e-02,  -6.47700796e-02,   7.96506532e-02,\n",
       "         8.12861977e-03,   2.77994133e-03,  -5.46700568e-02,\n",
       "         1.99352903e-02,  -2.34908430e-02,   8.31742787e-02,\n",
       "        -1.61273688e-02,  -1.06313776e-03,  -4.82436513e-02,\n",
       "        -2.96675631e-02,  -2.46871146e-03,  -3.79308809e-02,\n",
       "        -4.99451254e-02,  -2.36600657e-02,  -8.74072651e-02,\n",
       "        -8.11594276e-02,  -4.49108390e-02,   3.49812224e-02,\n",
       "         5.94208851e-02,   1.11257989e-02,  -2.45103491e-02,\n",
       "         4.21661995e-03,  -6.93501651e-03,  -1.01875429e-02,\n",
       "         5.44426093e-02,   1.33698895e-01,   7.74992195e-03,\n",
       "        -7.63905353e-02,  -4.13411159e-02,   1.65221835e-02,\n",
       "         1.61348704e-02,   4.61530922e-02,  -6.67992424e-02,\n",
       "         1.25563293e-02,   9.13144656e-03,  -2.48859184e-02,\n",
       "        -6.00236881e-03,  -2.37487603e-02,   1.96257618e-02,\n",
       "         5.51995932e-03,   9.80734268e-03,  -1.01112031e-02,\n",
       "        -1.70982278e-02,  -6.33283452e-02,  -2.10482269e-02,\n",
       "         1.11178966e-02,  -2.33790222e-02,   6.75856839e-03,\n",
       "         8.55455434e-03,  -3.28825996e-03,  -1.10408041e-02,\n",
       "         2.98325412e-02,   1.18365319e-01,  -2.64931888e-02,\n",
       "        -5.17318847e-03,  -5.04601858e-03,   4.92044766e-03,\n",
       "         4.66249214e-03,   1.23063329e-02,   7.23115365e-03,\n",
       "        -6.00292231e-03,  -1.29291761e-02,   1.86779314e-02,\n",
       "         3.44463946e-02,   3.47691274e-02,  -2.25002513e-02,\n",
       "         1.09568990e-02,   5.27833424e-02,  -3.81643829e-02,\n",
       "        -2.10324199e-02,  -7.71933343e-03,  -6.42036501e-02,\n",
       "        -7.65170410e-03,  -6.24190325e-02,  -6.81703752e-03,\n",
       "        -1.14882262e-02,  -5.43851622e-02,  -2.15856985e-02,\n",
       "        -2.00718490e-02,   2.84374695e-02,  -1.14779805e-04,\n",
       "        -3.17209799e-02,   1.46455632e-02,   1.44181946e-02,\n",
       "         3.81949308e-02,   2.94069299e-02,   5.79211090e-03,\n",
       "         3.59862804e-03,  -2.42344189e-03,   1.40084892e-01,\n",
       "        -1.67084493e-02,  -3.85543314e-02,   2.82557510e-03,\n",
       "        -2.07172498e-02,   2.80549471e-02,   1.91204807e-02,\n",
       "         1.63253887e-02,  -2.02644135e-02,  -3.12159233e-02,\n",
       "        -3.91392526e-02,  -1.94631997e-02,   1.79448654e-02,\n",
       "         1.04599675e-02,   2.19783215e-02,   2.04640084e-02,\n",
       "        -3.44223853e-03,  -7.89155533e-02,   8.95215164e-03,\n",
       "        -3.75100983e-02,  -4.53562821e-02,   3.88716176e-02,\n",
       "         5.32989966e-02,   2.19974085e-02,  -2.84890124e-02,\n",
       "        -3.55599983e-02,  -5.34432839e-03,   3.77266654e-03,\n",
       "        -4.93687013e-03,   1.53061705e-02,   1.02749952e-02,\n",
       "        -2.19410195e-02,   3.06375995e-02,   4.36347766e-03,\n",
       "         2.55533235e-02,  -1.36958233e-02,   1.98856171e-02,\n",
       "        -2.83164002e-02,   9.04421408e-05,   9.43851814e-03,\n",
       "         4.69957120e-03,   3.91543093e-03,  -9.67122790e-03,\n",
       "         9.49853871e-03,  -2.26720405e-02,  -1.99923782e-02,\n",
       "        -4.89005810e-03,   2.77871542e-04,   3.73630072e-02,\n",
       "         4.28041948e-02,   3.20225233e-02,  -3.33885714e-02,\n",
       "         1.20167750e-02,   3.67315058e-02,   6.11817743e-03,\n",
       "        -1.03666095e-02,  -1.22548086e-02,   7.95390748e-03,\n",
       "        -2.57178116e-03,  -3.99283241e-03,   6.34749249e-03,\n",
       "        -1.03270176e-02,   1.47627586e-04,  -3.20588855e-03,\n",
       "        -8.56343954e-03,  -1.06210804e-02,   8.10565659e-03,\n",
       "        -1.66555054e-02,   4.58152284e-03,   1.29223333e-02,\n",
       "        -1.38755411e-02,   1.17931361e-02,  -2.28697540e-02,\n",
       "         4.61966046e-03,  -4.87414345e-02,  -1.97879535e-03,\n",
       "         5.59652036e-03,  -3.47927527e-03,   3.99978969e-03,\n",
       "        -6.46891854e-03,   7.14326078e-03,   1.61341823e-02,\n",
       "         1.82406178e-02,   5.35157033e-03,   1.43629996e-02,\n",
       "         9.89933735e-03,  -7.40049293e-03,   8.72703518e-03,\n",
       "         4.69591354e-03,  -2.50719824e-02,   2.92675967e-02,\n",
       "        -1.93641029e-02,   1.39065377e-02,   2.99446585e-02,\n",
       "         2.85182868e-03,  -1.07467231e-02,  -2.16241328e-02,\n",
       "        -2.53366635e-03,  -8.45767891e-03,   1.45302105e-02,\n",
       "         1.88646306e-02,  -1.09140189e-03,  -1.31911370e-02,\n",
       "        -5.64735869e-03,  -6.16675471e-03,  -4.54049211e-02,\n",
       "        -1.34934335e-03,  -1.83765055e-02,  -7.08730238e-03,\n",
       "        -4.48001330e-02,  -3.16939466e-02,   3.75792015e-04,\n",
       "         4.13441527e-03,   2.53200640e-02,   4.21677587e-02,\n",
       "        -4.24952968e-02,  -2.49138754e-02,   3.40473441e-02,\n",
       "        -2.10279989e-02,  -1.76471590e-02,   2.27522665e-03,\n",
       "        -8.15888658e-04,   6.06260866e-03,  -1.76532433e-02,\n",
       "         2.78911796e-02,   4.32645564e-02,   1.55771944e-02,\n",
       "         1.59689918e-03,  -3.52609124e-02,   1.39799037e-03,\n",
       "        -1.97509535e-02,  -4.98039086e-04,   3.65119867e-02,\n",
       "         7.06963541e-03,   2.03985845e-02,   2.69473750e-03,\n",
       "         1.72411849e-02,  -5.40142775e-03,  -1.75222311e-02,\n",
       "        -1.84420938e-02,  -2.61847099e-03,   3.70685140e-02,\n",
       "         2.43872838e-02,  -9.94942075e-03,  -1.98706487e-02,\n",
       "         1.72935420e-03,  -1.08850833e-02,   3.98033584e-02,\n",
       "        -2.14565755e-02,  -2.04560636e-02,  -2.12851654e-02,\n",
       "         4.22900535e-02,   2.90475816e-02,   5.24241572e-03,\n",
       "         8.80038138e-03,  -4.16302021e-03,   3.51901015e-02,\n",
       "         3.32853253e-02,  -2.30881542e-02,   2.74411604e-02,\n",
       "        -1.32935855e-02,  -4.86388598e-03,  -8.28709653e-03,\n",
       "         1.66252987e-02,  -1.61812232e-02,   1.67362034e-02,\n",
       "         5.71070174e-03,  -5.46051247e-03,  -1.36419200e-02,\n",
       "        -1.55042004e-02,   4.26439019e-03,   1.95290947e-02,\n",
       "        -5.00771249e-04,   8.77410141e-03,   3.23763311e-03,\n",
       "        -4.54991284e-03,   1.48847992e-02,   8.46656392e-03,\n",
       "         1.51470576e-02,   2.34136081e-02,  -6.48047677e-04,\n",
       "         2.72052215e-02,  -2.49288696e-02,   4.77360750e-03,\n",
       "         9.66421763e-03,  -1.01223586e-02,  -1.67612326e-02,\n",
       "         1.28435775e-02,  -4.56001625e-04,  -2.17274982e-02,\n",
       "         7.69387747e-04,  -3.62255598e-02,  -8.00767690e-03,\n",
       "        -1.56106705e-02,  -1.29463946e-02,  -9.74967043e-03,\n",
       "        -8.30137731e-03,  -2.45669737e-02,   8.70072520e-03,\n",
       "        -1.79633698e-04,   4.56091383e-03,   8.94318860e-03,\n",
       "        -1.04930301e-02,  -2.82879889e-03,  -1.50316906e-02,\n",
       "         4.00129077e-04,   2.90425079e-03,   9.71431379e-03,\n",
       "         1.09682757e-02,   1.21803205e-02,   1.17151975e-02,\n",
       "         1.69650175e-02,   1.19380695e-02,   3.46335365e-02,\n",
       "         1.32823510e-02,  -3.25780705e-02,   2.81889207e-03,\n",
       "         3.20929809e-02,   2.33136170e-02,  -1.42814531e-02,\n",
       "        -2.07325298e-02,  -3.85951668e-03,  -1.55713695e-02,\n",
       "        -2.17136527e-03,  -2.02645475e-03,  -5.86212983e-03,\n",
       "         3.40144127e-03,   2.45128233e-02,   2.73893148e-02,\n",
       "        -9.98552526e-03,  -6.67147933e-03,   1.48532492e-02,\n",
       "         9.40339955e-03,  -8.94235747e-03,  -3.76193774e-02,\n",
       "        -3.05638466e-02,   3.08742282e-02,   8.50244662e-03,\n",
       "        -2.75150189e-03,   2.87011681e-02,  -2.49909343e-02,\n",
       "        -1.28420330e-02,  -1.04928748e-03,              nan])"
      ]
     },
     "execution_count": 78,
     "metadata": {},
     "output_type": "execute_result"
    }
   ],
   "source": [
    "np.dot(returns16,weights)"
   ]
  },
  {
   "cell_type": "markdown",
   "metadata": {},
   "source": [
    "### Annual returns"
   ]
  },
  {
   "cell_type": "code",
   "execution_count": 79,
   "metadata": {
    "collapsed": false
   },
   "outputs": [
    {
     "data": {
      "text/plain": [
       "VSLR   -0.582461\n",
       "RUN    -0.395367\n",
       "TSLA    0.324107\n",
       "dtype: float64"
      ]
     },
     "execution_count": 79,
     "metadata": {},
     "output_type": "execute_result"
    }
   ],
   "source": [
    "annual_returns = returns16.mean()*250\n",
    "annual_returns"
   ]
  },
  {
   "cell_type": "code",
   "execution_count": 80,
   "metadata": {
    "collapsed": false
   },
   "outputs": [
    {
     "data": {
      "text/plain": [
       "-0.21768899811804537"
      ]
     },
     "execution_count": 80,
     "metadata": {},
     "output_type": "execute_result"
    }
   ],
   "source": [
    "np.dot(annual_returns,weights)"
   ]
  },
  {
   "cell_type": "code",
   "execution_count": 81,
   "metadata": {
    "collapsed": false
   },
   "outputs": [],
   "source": [
    "portfolio_solar = str(round(np.dot(annual_returns, weights),5)*100)+'%'"
   ]
  },
  {
   "cell_type": "code",
   "execution_count": 82,
   "metadata": {
    "collapsed": false
   },
   "outputs": [
    {
     "data": {
      "text/plain": [
       "'-21.769%'"
      ]
     },
     "execution_count": 82,
     "metadata": {},
     "output_type": "execute_result"
    }
   ],
   "source": [
    "portfolio_solar"
   ]
  },
  {
   "cell_type": "markdown",
   "metadata": {},
   "source": [
    "### Risk\n",
    "- variance"
   ]
  },
  {
   "cell_type": "code",
   "execution_count": 86,
   "metadata": {
    "collapsed": false
   },
   "outputs": [],
   "source": [
    "tsla_sReturn = (TSLA / TSLA.shift(1))-1"
   ]
  },
  {
   "cell_type": "markdown",
   "metadata": {},
   "source": [
    "### Variance"
   ]
  },
  {
   "cell_type": "code",
   "execution_count": 87,
   "metadata": {
    "collapsed": false
   },
   "outputs": [
    {
     "data": {
      "text/plain": [
       "0.0005569385709848963"
      ]
     },
     "execution_count": 87,
     "metadata": {},
     "output_type": "execute_result"
    }
   ],
   "source": [
    "tsla_sReturn.var()"
   ]
  },
  {
   "cell_type": "markdown",
   "metadata": {},
   "source": [
    "### Variance annualized"
   ]
  },
  {
   "cell_type": "code",
   "execution_count": 88,
   "metadata": {
    "collapsed": false
   },
   "outputs": [
    {
     "data": {
      "text/plain": [
       "0.13923464274622407"
      ]
     },
     "execution_count": 88,
     "metadata": {},
     "output_type": "execute_result"
    }
   ],
   "source": [
    "tsla_sReturn.var()*250"
   ]
  },
  {
   "cell_type": "markdown",
   "metadata": {},
   "source": [
    "### Risk"
   ]
  },
  {
   "cell_type": "code",
   "execution_count": 90,
   "metadata": {
    "collapsed": false
   },
   "outputs": [],
   "source": [
    "run_return = (RUN / RUN.shift(1))-1\n"
   ]
  },
  {
   "cell_type": "markdown",
   "metadata": {},
   "source": [
    "### Variance annualized"
   ]
  },
  {
   "cell_type": "code",
   "execution_count": 91,
   "metadata": {
    "collapsed": false
   },
   "outputs": [
    {
     "data": {
      "text/plain": [
       "0.4149285904942343"
      ]
     },
     "execution_count": 91,
     "metadata": {},
     "output_type": "execute_result"
    }
   ],
   "source": [
    "run_return.var()*250"
   ]
  },
  {
   "cell_type": "markdown",
   "metadata": {},
   "source": [
    "### Portfolio "
   ]
  },
  {
   "cell_type": "code",
   "execution_count": 95,
   "metadata": {
    "collapsed": false
   },
   "outputs": [
    {
     "data": {
      "text/html": [
       "<div>\n",
       "<table border=\"1\" class=\"dataframe\">\n",
       "  <thead>\n",
       "    <tr style=\"text-align: right;\">\n",
       "      <th></th>\n",
       "      <th>VSLR</th>\n",
       "      <th>RUN</th>\n",
       "      <th>TSLA</th>\n",
       "    </tr>\n",
       "  </thead>\n",
       "  <tbody>\n",
       "    <tr>\n",
       "      <th>VSLR</th>\n",
       "      <td>0.002810</td>\n",
       "      <td>0.000603</td>\n",
       "      <td>0.000184</td>\n",
       "    </tr>\n",
       "    <tr>\n",
       "      <th>RUN</th>\n",
       "      <td>0.000603</td>\n",
       "      <td>0.001660</td>\n",
       "      <td>0.000187</td>\n",
       "    </tr>\n",
       "    <tr>\n",
       "      <th>TSLA</th>\n",
       "      <td>0.000184</td>\n",
       "      <td>0.000187</td>\n",
       "      <td>0.000555</td>\n",
       "    </tr>\n",
       "  </tbody>\n",
       "</table>\n",
       "</div>"
      ],
      "text/plain": [
       "          VSLR       RUN      TSLA\n",
       "VSLR  0.002810  0.000603  0.000184\n",
       "RUN   0.000603  0.001660  0.000187\n",
       "TSLA  0.000184  0.000187  0.000555"
      ]
     },
     "execution_count": 95,
     "metadata": {},
     "output_type": "execute_result"
    }
   ],
   "source": [
    "returns16.cov()"
   ]
  },
  {
   "cell_type": "code",
   "execution_count": 96,
   "metadata": {
    "collapsed": false
   },
   "outputs": [
    {
     "data": {
      "text/html": [
       "<div>\n",
       "<table border=\"1\" class=\"dataframe\">\n",
       "  <thead>\n",
       "    <tr style=\"text-align: right;\">\n",
       "      <th></th>\n",
       "      <th>VSLR</th>\n",
       "      <th>RUN</th>\n",
       "      <th>TSLA</th>\n",
       "    </tr>\n",
       "  </thead>\n",
       "  <tbody>\n",
       "    <tr>\n",
       "      <th>VSLR</th>\n",
       "      <td>0.702511</td>\n",
       "      <td>0.150639</td>\n",
       "      <td>0.045960</td>\n",
       "    </tr>\n",
       "    <tr>\n",
       "      <th>RUN</th>\n",
       "      <td>0.150639</td>\n",
       "      <td>0.414929</td>\n",
       "      <td>0.046668</td>\n",
       "    </tr>\n",
       "    <tr>\n",
       "      <th>TSLA</th>\n",
       "      <td>0.045960</td>\n",
       "      <td>0.046668</td>\n",
       "      <td>0.138833</td>\n",
       "    </tr>\n",
       "  </tbody>\n",
       "</table>\n",
       "</div>"
      ],
      "text/plain": [
       "          VSLR       RUN      TSLA\n",
       "VSLR  0.702511  0.150639  0.045960\n",
       "RUN   0.150639  0.414929  0.046668\n",
       "TSLA  0.045960  0.046668  0.138833"
      ]
     },
     "execution_count": 96,
     "metadata": {},
     "output_type": "execute_result"
    }
   ],
   "source": [
    "returns16.cov()*250"
   ]
  },
  {
   "cell_type": "code",
   "execution_count": 97,
   "metadata": {
    "collapsed": false
   },
   "outputs": [
    {
     "data": {
      "text/html": [
       "<div>\n",
       "<table border=\"1\" class=\"dataframe\">\n",
       "  <thead>\n",
       "    <tr style=\"text-align: right;\">\n",
       "      <th></th>\n",
       "      <th>VSLR</th>\n",
       "      <th>RUN</th>\n",
       "      <th>TSLA</th>\n",
       "    </tr>\n",
       "  </thead>\n",
       "  <tbody>\n",
       "    <tr>\n",
       "      <th>VSLR</th>\n",
       "      <td>1.000000</td>\n",
       "      <td>0.278606</td>\n",
       "      <td>0.147167</td>\n",
       "    </tr>\n",
       "    <tr>\n",
       "      <th>RUN</th>\n",
       "      <td>0.278606</td>\n",
       "      <td>1.000000</td>\n",
       "      <td>0.194158</td>\n",
       "    </tr>\n",
       "    <tr>\n",
       "      <th>TSLA</th>\n",
       "      <td>0.147167</td>\n",
       "      <td>0.194158</td>\n",
       "      <td>1.000000</td>\n",
       "    </tr>\n",
       "  </tbody>\n",
       "</table>\n",
       "</div>"
      ],
      "text/plain": [
       "          VSLR       RUN      TSLA\n",
       "VSLR  1.000000  0.278606  0.147167\n",
       "RUN   0.278606  1.000000  0.194158\n",
       "TSLA  0.147167  0.194158  1.000000"
      ]
     },
     "execution_count": 97,
     "metadata": {},
     "output_type": "execute_result"
    }
   ],
   "source": [
    "returns16.corr()"
   ]
  },
  {
   "cell_type": "markdown",
   "metadata": {},
   "source": [
    "### Equal weighting: *W* = weights\n",
    "- weights must equal 1, but the weight does not have to be equally distributed"
   ]
  },
  {
   "cell_type": "code",
   "execution_count": null,
   "metadata": {
    "collapsed": true
   },
   "outputs": [],
   "source": [
    "weights = np.arrays([0.333, 0.333, 0.333])"
   ]
  },
  {
   "cell_type": "markdown",
   "metadata": {},
   "source": [
    "### Portfolio Covariance"
   ]
  },
  {
   "cell_type": "code",
   "execution_count": 106,
   "metadata": {
    "collapsed": false
   },
   "outputs": [],
   "source": [
    "port_annual_cav = returns16.cov()*250"
   ]
  },
  {
   "cell_type": "code",
   "execution_count": 107,
   "metadata": {
    "collapsed": false
   },
   "outputs": [],
   "source": [
    "port_var = np.dot(weights.T, np.dot(port_annual_cav, weights))"
   ]
  },
  {
   "cell_type": "code",
   "execution_count": 108,
   "metadata": {
    "collapsed": false
   },
   "outputs": [
    {
     "data": {
      "text/plain": [
       "0.19325796720366831"
      ]
     },
     "execution_count": 108,
     "metadata": {},
     "output_type": "execute_result"
    }
   ],
   "source": [
    "port_var"
   ]
  },
  {
   "cell_type": "markdown",
   "metadata": {},
   "source": [
    "### Port Volatility"
   ]
  },
  {
   "cell_type": "code",
   "execution_count": 109,
   "metadata": {
    "collapsed": false
   },
   "outputs": [
    {
     "data": {
      "text/plain": [
       "0.43961115454873106"
      ]
     },
     "execution_count": 109,
     "metadata": {},
     "output_type": "execute_result"
    }
   ],
   "source": [
    "port_vol = np.dot(weights.T, np.dot(port_annual_cav, weights))**0.5\n",
    "port_vol\n"
   ]
  },
  {
   "cell_type": "code",
   "execution_count": 112,
   "metadata": {
    "collapsed": false
   },
   "outputs": [
    {
     "name": "stdout",
     "output_type": "stream",
     "text": [
      "43.961%\n"
     ]
    }
   ],
   "source": [
    "\n",
    "print(str(round(port_vol,5)*100)+'%')"
   ]
  },
  {
   "cell_type": "code",
   "execution_count": null,
   "metadata": {
    "collapsed": true
   },
   "outputs": [],
   "source": []
  }
 ],
 "metadata": {
  "kernelspec": {
   "display_name": "Python 3",
   "language": "python",
   "name": "python3"
  },
  "language_info": {
   "codemirror_mode": {
    "name": "ipython",
    "version": 3
   },
   "file_extension": ".py",
   "mimetype": "text/x-python",
   "name": "python",
   "nbconvert_exporter": "python",
   "pygments_lexer": "ipython3",
   "version": "3.6.1"
  }
 },
 "nbformat": 4,
 "nbformat_minor": 2
}
